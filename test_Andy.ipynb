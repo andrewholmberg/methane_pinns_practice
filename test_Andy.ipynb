{
 "cells": [
  {
   "cell_type": "code",
   "execution_count": 2,
   "metadata": {},
   "outputs": [],
   "source": [
    "import torch\n",
    "import matplotlib.pyplot as plt"
   ]
  },
  {
   "cell_type": "code",
   "execution_count": 33,
   "metadata": {},
   "outputs": [],
   "source": [
    "# create a small neural network with 1 hidden layer\n",
    "class Net(torch.nn.Module):\n",
    "\n",
    "    def __init__(self):\n",
    "        super(Net, self).__init__()\n",
    "        self.fc1 = torch.nn.Linear(3, 10)\n",
    "        self.fc2 = torch.nn.Linear(10, 1)\n",
    "\n",
    "    def forward(self, x):\n",
    "        x = torch.tanh(self.fc1(x))\n",
    "        x = self.fc2(x)\n",
    "\n",
    "        return x\n",
    "\n",
    "net = Net()"
   ]
  },
  {
   "cell_type": "code",
   "execution_count": 35,
   "metadata": {},
   "outputs": [
    {
     "name": "stdout",
     "output_type": "stream",
     "text": [
      "tensor([[ 0.4937],\n",
      "        [-0.1096],\n",
      "        [-0.2354],\n",
      "        [-0.8136],\n",
      "        [-1.2618],\n",
      "        [ 0.5843],\n",
      "        [ 0.7163],\n",
      "        [ 1.6449],\n",
      "        [-1.0383],\n",
      "        [ 0.6091],\n",
      "        [ 0.1979],\n",
      "        [ 0.8264],\n",
      "        [ 0.0019],\n",
      "        [ 1.6107],\n",
      "        [ 0.8073],\n",
      "        [-1.1505],\n",
      "        [ 1.0902],\n",
      "        [ 0.3509],\n",
      "        [ 0.7590],\n",
      "        [-0.6202]], grad_fn=<SliceBackward0>)\n"
     ]
    }
   ],
   "source": [
    "n_samples = 20\n",
    "x_batch = torch.randn(n_samples, 3,requires_grad=True)\n",
    "x1,x2,x3 = x_batch[:,0:1], x_batch[:,1:2], x_batch[:,2:3]\n",
    "print(x1)\n",
    "x_batch = torch.concat([x1,x2,x3],dim=1)\n",
    "# x_batch.requires_grad = True"
   ]
  },
  {
   "cell_type": "code",
   "execution_count": 36,
   "metadata": {},
   "outputs": [],
   "source": [
    "# evaluate network\n",
    "u_batch = net(x_batch)"
   ]
  },
  {
   "cell_type": "code",
   "execution_count": 44,
   "metadata": {},
   "outputs": [],
   "source": [
    "# compute first and second derivative. All at once.\n",
    "dudx = torch.autograd.grad(outputs = u_batch, inputs = x_batch, grad_outputs= torch.ones_like(u_batch), create_graph=True)[0]\n",
    "corrected_dudx = torch.autograd.grad(outputs = u_batch, inputs = x1, grad_outputs= torch.ones_like(u_batch), create_graph=True)[0]\n",
    "d2udx2 = torch.autograd.grad(outputs = dudx, inputs = x_batch, grad_outputs= torch.ones_like(dudx), create_graph=True)[0]\n",
    "corrected_d2udx2 = torch.autograd.grad(outputs = dudx[:,0], inputs = x1, grad_outputs= torch.ones_like(dudx[:,0]), create_graph=True)[0]"
   ]
  },
  {
   "cell_type": "code",
   "execution_count": 45,
   "metadata": {},
   "outputs": [
    {
     "data": {
      "text/plain": [
       "torch.Size([20, 3])"
      ]
     },
     "execution_count": 45,
     "metadata": {},
     "output_type": "execute_result"
    }
   ],
   "source": [
    "dudx.shape"
   ]
  },
  {
   "cell_type": "code",
   "execution_count": 46,
   "metadata": {},
   "outputs": [
    {
     "data": {
      "text/plain": [
       "torch.Size([20, 3])"
      ]
     },
     "execution_count": 46,
     "metadata": {},
     "output_type": "execute_result"
    }
   ],
   "source": [
    "d2udx2.shape"
   ]
  },
  {
   "cell_type": "code",
   "execution_count": 47,
   "metadata": {},
   "outputs": [
    {
     "data": {
      "text/plain": [
       "tensor([[ 0.0323],\n",
       "        [ 0.0337],\n",
       "        [ 0.0151],\n",
       "        [-0.0041],\n",
       "        [-0.0387],\n",
       "        [ 0.0184],\n",
       "        [ 0.0285],\n",
       "        [-0.0063],\n",
       "        [ 0.0020],\n",
       "        [-0.0105],\n",
       "        [ 0.0288],\n",
       "        [ 0.0365],\n",
       "        [ 0.0091],\n",
       "        [ 0.0248],\n",
       "        [ 0.0287],\n",
       "        [ 0.0194],\n",
       "        [ 0.0264],\n",
       "        [ 0.0220],\n",
       "        [ 0.0322],\n",
       "        [-0.0117]], grad_fn=<SliceBackward0>)"
      ]
     },
     "execution_count": 47,
     "metadata": {},
     "output_type": "execute_result"
    }
   ],
   "source": [
    "corrected_d2udx2"
   ]
  },
  {
   "cell_type": "code",
   "execution_count": 48,
   "metadata": {},
   "outputs": [
    {
     "data": {
      "text/plain": [
       "tensor([[-0.0116,  0.0038, -0.0665],\n",
       "        [-0.0097,  0.0192, -0.0381],\n",
       "        [ 0.0038,  0.0004, -0.0636],\n",
       "        [-0.0046, -0.0329, -0.0894],\n",
       "        [-0.0189, -0.1269, -0.0609],\n",
       "        [-0.0111, -0.0182,  0.0007],\n",
       "        [-0.0087, -0.0274, -0.0765],\n",
       "        [ 0.0339,  0.0345,  0.0644],\n",
       "        [-0.0437, -0.0304,  0.0389],\n",
       "        [ 0.0205,  0.0010,  0.0269],\n",
       "        [-0.0076, -0.0193, -0.0804],\n",
       "        [ 0.0239,  0.0583,  0.0076],\n",
       "        [ 0.0023, -0.0087, -0.0546],\n",
       "        [-0.0005, -0.0100, -0.0185],\n",
       "        [-0.0081,  0.0064, -0.0205],\n",
       "        [-0.0193, -0.0185, -0.0115],\n",
       "        [ 0.0340,  0.0770,  0.0295],\n",
       "        [-0.0204, -0.0474, -0.0663],\n",
       "        [-0.0138,  0.0058, -0.0631],\n",
       "        [-0.0334, -0.1038, -0.0408]], grad_fn=<MmBackward0>)"
      ]
     },
     "execution_count": 48,
     "metadata": {},
     "output_type": "execute_result"
    }
   ],
   "source": [
    "d2udx2"
   ]
  },
  {
   "cell_type": "code",
   "execution_count": null,
   "metadata": {},
   "outputs": [],
   "source": []
  }
 ],
 "metadata": {
  "kernelspec": {
   "display_name": "pft_ptycho_env",
   "language": "python",
   "name": "python3"
  },
  "language_info": {
   "codemirror_mode": {
    "name": "ipython",
    "version": 3
   },
   "file_extension": ".py",
   "mimetype": "text/x-python",
   "name": "python",
   "nbconvert_exporter": "python",
   "pygments_lexer": "ipython3",
   "version": "3.11.4"
  }
 },
 "nbformat": 4,
 "nbformat_minor": 2
}
