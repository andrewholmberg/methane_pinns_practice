{
 "cells": [
  {
   "cell_type": "code",
   "execution_count": 18,
   "metadata": {},
   "outputs": [],
   "source": [
    "import torch\n",
    "import torch.nn as nn\n",
    "import torch.optim as optim\n",
    "import torch.nn.functional as F\n",
    "from torch.utils.data import DataLoader, TensorDataset\n",
    "class SimpleNN(nn.Module):\n",
    "    def __init__(self):\n",
    "        super(SimpleNN, self).__init__()\n",
    "        self.fc1 = nn.Linear(2, 2)  # Input layer -> Hidden layer\n",
    "        self.fc2 = nn.Linear(2, 1)  # Hidden layer -> Output layer\n",
    "\n",
    "    def forward(self, x):\n",
    "        x = torch.tanh(self.fc1(x))  # Activation function for the hidden layer\n",
    "        x = torch.tanh(self.fc2(x))  # Activation function for the output layer\n",
    "        return x\n"
   ]
  },
  {
   "cell_type": "code",
   "execution_count": 64,
   "metadata": {},
   "outputs": [],
   "source": [
    "X1 = torch.tensor([[0.0],\n",
    "                  [0.0],\n",
    "                  [1.0],\n",
    "                  [1.0]],requires_grad=True)\n",
    "X2 = torch.tensor([[0.0],\n",
    "                   [1.0],\n",
    "                   [0.0],\n",
    "                   [1.0]],requires_grad=True)\n",
    "\n",
    "mod = SimpleNN()"
   ]
  },
  {
   "cell_type": "code",
   "execution_count": 77,
   "metadata": {},
   "outputs": [
    {
     "name": "stdout",
     "output_type": "stream",
     "text": [
      "tensor([[0.4401],\n",
      "        [0.2172],\n",
      "        [0.4374],\n",
      "        [0.3551]], grad_fn=<SliceBackward0>)\n",
      "tensor([0.4401, 0.2172, 0.4374, 0.3551], grad_fn=<SelectBackward0>)\n",
      "tensor([[ 0.0740, -0.1237],\n",
      "        [ 0.1297, -0.2192],\n",
      "        [-0.0734,  0.1220],\n",
      "        [ 0.1287, -0.2360]], grad_fn=<MmBackward0>)\n",
      "tensor([[-0.1237],\n",
      "        [-0.2192],\n",
      "        [ 0.1220],\n",
      "        [-0.2360]], grad_fn=<SliceBackward0>)\n"
     ]
    }
   ],
   "source": [
    "\n",
    "# mod.forward(X)\n",
    "\n",
    "\n",
    "# output = torch.concat([output,output],dim=1)\n",
    "input = torch.concat([X1,X2],dim=1)\n",
    "output = mod.forward(input)\n",
    "f_prime = torch.autograd.grad(outputs =  output , inputs = input, grad_outputs = torch.ones_like(output), create_graph=True)[0]\n",
    "uy = torch.autograd.grad(outputs =  output , inputs = X2, grad_outputs = torch.ones_like(output), create_graph=True)[0]\n",
    "print(uy)\n",
    "\n",
    "u_x = f_prime[:, 0]\n",
    "u_y = f_prime[:, 1]\n",
    "print(u_y)\n",
    "\n",
    "y = torch.autograd.grad(outputs = uy, inputs = input, grad_outputs = torch.ones_like(uy), create_graph=True)[0]\n",
    "print(y)\n",
    "\n",
    "y = torch.autograd.grad(outputs = u_y, inputs = X2,  grad_outputs = torch.ones_like(u_y), create_graph=True)[0]\n",
    "print(y)\n",
    "\n",
    "\n"
   ]
  },
  {
   "cell_type": "code",
   "execution_count": null,
   "metadata": {},
   "outputs": [],
   "source": [
    "partial_derivatives[el[i][2]] = torch.autograd.grad(outputs=partial_derivatives[el[0]], inputs= partial_derivatives[el[1]], grad_outputs=torch.ones_like(partial_derivatives[el[0]]), create_graph=True)[0]"
   ]
  },
  {
   "cell_type": "code",
   "execution_count": 1,
   "metadata": {},
   "outputs": [
    {
     "data": {
      "text/plain": [
       "False"
      ]
     },
     "execution_count": 1,
     "metadata": {},
     "output_type": "execute_result"
    }
   ],
   "source": [
    "\n",
    "'t' in [('u','t')]"
   ]
  },
  {
   "cell_type": "code",
   "execution_count": null,
   "metadata": {},
   "outputs": [],
   "source": []
  }
 ],
 "metadata": {
  "kernelspec": {
   "display_name": "Python 3",
   "language": "python",
   "name": "python3"
  },
  "language_info": {
   "codemirror_mode": {
    "name": "ipython",
    "version": 3
   },
   "file_extension": ".py",
   "mimetype": "text/x-python",
   "name": "python",
   "nbconvert_exporter": "python",
   "pygments_lexer": "ipython3",
   "version": "3.11.4"
  }
 },
 "nbformat": 4,
 "nbformat_minor": 2
}
