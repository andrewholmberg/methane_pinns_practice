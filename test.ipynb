{
 "cells": [
  {
   "cell_type": "code",
   "execution_count": 1,
   "metadata": {},
   "outputs": [],
   "source": [
    "import torch\n",
    "import torch.nn as nn\n",
    "import torch.optim as optim\n",
    "import torch.nn.functional as F\n",
    "from torch.utils.data import DataLoader, TensorDataset\n",
    "class SimpleNN(nn.Module):\n",
    "    def __init__(self):\n",
    "        super(SimpleNN, self).__init__()\n",
    "        self.fc1 = nn.Linear(2, 2)  # Input layer -> Hidden layer\n",
    "        self.fc2 = nn.Linear(2, 1)  # Hidden layer -> Output layer\n",
    "\n",
    "    def forward(self, x):\n",
    "        x = torch.sigmoid(self.fc1(x))  # Activation function for the hidden layer\n",
    "        x = torch.sigmoid(self.fc2(x))  # Activation function for the output layer\n",
    "        return x\n"
   ]
  },
  {
   "cell_type": "code",
   "execution_count": 14,
   "metadata": {},
   "outputs": [
    {
     "name": "stdout",
     "output_type": "stream",
     "text": [
      "(None,)\n"
     ]
    }
   ],
   "source": [
    "X = torch.tensor([[0.0, 0.0],\n",
    "                  [0.0, 1.0],\n",
    "                  [1.0, 0.0],\n",
    "                  [1.0, 1.0]], dtype=torch.float32,requires_grad=True)\n",
    "X1 = torch.tensor([[0.0],\n",
    "                  [0.0],\n",
    "                  [1.0],\n",
    "                  [1.0]],requires_grad=True)\n",
    "X2 = torch.tensor([[0.0],\n",
    "                   [1.0],\n",
    "                   [0.0],\n",
    "                   [1.0]],requires_grad=True)\n",
    "\n",
    "mod = SimpleNN()\n",
    "mod.forward(X)\n",
    "\n",
    "output = mod.forward(torch.concat([X1,X2],dim=1))\n",
    "\n",
    "output = torch.concat([output,output],dim=1)\n",
    "input = torch.concat([X1,X2],dim=1)\n",
    "y = torch.autograd.grad(outputs =  output , inputs = input, grad_outputs = output, create_graph=True, allow_unused=True)\n",
    "print(y)\n",
    "\n",
    "\n"
   ]
  },
  {
   "cell_type": "code",
   "execution_count": null,
   "metadata": {},
   "outputs": [],
   "source": [
    "partial_derivatives[el[i][2]] = torch.autograd.grad(outputs=partial_derivatives[el[0]], inputs= partial_derivatives[el[1]], grad_outputs=torch.ones_like(partial_derivatives[el[0]]), create_graph=True)[0]"
   ]
  }
 ],
 "metadata": {
  "kernelspec": {
   "display_name": "Python 3",
   "language": "python",
   "name": "python3"
  },
  "language_info": {
   "codemirror_mode": {
    "name": "ipython",
    "version": 3
   },
   "file_extension": ".py",
   "mimetype": "text/x-python",
   "name": "python",
   "nbconvert_exporter": "python",
   "pygments_lexer": "ipython3",
   "version": "3.10.1"
  }
 },
 "nbformat": 4,
 "nbformat_minor": 2
}
