{
 "cells": [
  {
   "cell_type": "code",
   "execution_count": null,
   "metadata": {},
   "outputs": [],
   "source": [
    "import numpy as np"
   ]
  },
  {
   "cell_type": "code",
   "execution_count": null,
   "metadata": {},
   "outputs": [],
   "source": [
    "\n",
    "pde = lambda x,y,z, uxx, uyy, uzz , u, v, ut : \n",
    "\n",
    "\n",
    "lambda u, x2, x3, x4, ux1, ux2, ux3,ux4, ux2x2, ux3x3, ux4x4: ux1 + 1 * ux2 + 1 * ux3 + 0 * ux4 - .1*( ux2x2 + ux3x3 + ux4x4) -  ((torch.abs(x2)+torch.abs(x3)+torch.abs(x4-z0) < .000001).int() * q)"
   ]
  },
  {
   "cell_type": "code",
   "execution_count": null,
   "metadata": {},
   "outputs": [],
   "source": [
    "z0 = 5\n",
    "q = 100\n",
    "D = 0.01\n",
    "u=5\n",
    "v=5\n",
    "vz=1\n",
    "vy=1\n",
    "evaluate = lambda t,x,y,z : (q/(((2*np.pi)**1.5)*(vy**2)*(vz))) * np.exp(-1*((x-u*t)**2 + (y-v*t)**2)/(2*(vy**2))) * (np.exp((-1*(z-z0)**2)/(2*(vz**2))) + np.exp((-1*(z+z0)**2)/(2*(vz**2))))\n",
    "def actual(t_input,x_input,y_input,z_input):\n",
    " result, error = quad((lambda x, y, z : lambda t : (evaluate(t,x,y,z)))(x_input,y_input,z_input), 0, t_input)\n",
    " return result"
   ]
  },
  {
   "cell_type": "code",
   "execution_count": 19,
   "metadata": {},
   "outputs": [],
   "source": [
    "def laplacian_of_function(x, y, z, u, v, t, z0, vy, vz, q):\n",
    "    # Original function components\n",
    "    prefactor = q / (((2 * np.pi) ** 1.5) * (vy ** 2) * vz)\n",
    "    exp_xy = np.exp(-((x - u * t) ** 2 + (y - v * t) ** 2) / (2 * (vy ** 2)))\n",
    "    exp_z1 = np.exp(-((z - z0) ** 2) / (2 * (vz ** 2)))\n",
    "    exp_z2 = np.exp(-((z + z0) ** 2) / (2 * (vz ** 2)))\n",
    "    \n",
    "    # Original function value\n",
    "    f = prefactor * exp_xy * (exp_z1 + exp_z2)\n",
    "    \n",
    "    # Laplacian components for x and y\n",
    "    laplacian_xy = f * (((x - u * t) ** 2 + (y - v * t) ** 2) / (vy ** 4) - (2 / (vy ** 2)))\n",
    "    \n",
    "    # Laplacian components for z\n",
    "    laplacian_z = f * ((((z - z0) ** 2) / (vz ** 4)) - (1 / (vz ** 2)) + (((z + z0) ** 2) / (vz ** 4)) - (1 / (vz ** 2)))\n",
    "    \n",
    "    # Total Laplacian\n",
    "    laplacian_f = laplacian_xy + laplacian_z\n",
    "    \n",
    "    return laplacian_f"
   ]
  },
  {
   "cell_type": "code",
   "execution_count": 20,
   "metadata": {},
   "outputs": [],
   "source": [
    "x, y, z = 1.0, 1.0, 1.0  # Coordinates\n",
    "u, v, t = 0.5, 0.5, 1.0  # Parameters related to motion and time\n",
    "z0 = 0.2  # Offset in z-direction\n",
    "vy, vz = 0.3, 0.4  # Velocity terms in y and z directions\n",
    "q = 1.0  # Scaling factor or amplitude\n",
    "\n",
    "# Calculate Laplacian\n",
    "laplacian_result = laplacian_of_function(x, y, z, u, v, t, z0, vy, vz, q)\n",
    "\n"
   ]
  }
 ],
 "metadata": {
  "kernelspec": {
   "display_name": "Python 3",
   "language": "python",
   "name": "python3"
  },
  "language_info": {
   "codemirror_mode": {
    "name": "ipython",
    "version": 3
   },
   "file_extension": ".py",
   "mimetype": "text/x-python",
   "name": "python",
   "nbconvert_exporter": "python",
   "pygments_lexer": "ipython3",
   "version": "3.11.4"
  }
 },
 "nbformat": 4,
 "nbformat_minor": 2
}
